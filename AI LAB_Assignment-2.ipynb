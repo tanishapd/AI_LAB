{
 "cells": [
  {
   "cell_type": "code",
   "execution_count": 1,
   "id": "72c482fb",
   "metadata": {},
   "outputs": [],
   "source": [
    "#using bi-directional bfs to solve a navigation problem\n",
    "from collections import deque\n",
    "\n",
    "def bidirectional_bfs(map, start, end):\n",
    "    if start == end:\n",
    "        return [start]\n",
    "\n",
    "    queue_start = deque([start])\n",
    "    queue_end = deque([end])\n",
    "    \n",
    "    visited_start = {start}\n",
    "    visited_end = {end}\n",
    "\n",
    "    parent_start = {start: None}\n",
    "    parent_end = {end: None}\n",
    "\n",
    "    while queue_start and queue_end:\n",
    "        if _bfs_step(map, queue_start, visited_start, parent_start, visited_end):\n",
    "            return _reconstruct_path(start, end, parent_start, parent_end)\n",
    "\n",
    "        if _bfs_step(map, queue_end, visited_end, parent_end, visited_start):\n",
    "            return _reconstruct_path(start, end, parent_start, parent_end)\n",
    "\n",
    "    return None \n"
   ]
  },
  {
   "cell_type": "code",
   "execution_count": 2,
   "id": "ca776c86",
   "metadata": {},
   "outputs": [],
   "source": [
    "def _bfs_step(map, queue, visited, parent, other_visited):\n",
    "    current = queue.popleft()\n",
    "    for neighbor in map.get(current, []):\n",
    "        if neighbor not in visited:\n",
    "            visited.add(neighbor)\n",
    "            parent[neighbor] = current\n",
    "            queue.append(neighbor)\n",
    "            if neighbor in other_visited:\n",
    "                return True  \n",
    "    return False\n"
   ]
  },
  {
   "cell_type": "code",
   "execution_count": 3,
   "id": "85ad5cb8",
   "metadata": {},
   "outputs": [],
   "source": [
    "def _reconstruct_path(start, end, parent_start, parent_end):\n",
    "    intersection = None\n",
    "    for node in parent_start:\n",
    "        if node in parent_end:\n",
    "            intersection = node\n",
    "            break\n",
    "\n",
    "    path = []\n",
    "    current = intersection\n",
    "    while current is not None:\n",
    "        path.append(current)\n",
    "        current = parent_start[current]\n",
    "    path.reverse()\n",
    "\n",
    "    current = parent_end[intersection]\n",
    "    while current is not None:\n",
    "        path.append(current)\n",
    "        current = parent_end[current]\n",
    "\n",
    "    return path"
   ]
  },
  {
   "cell_type": "code",
   "execution_count": 4,
   "id": "849689a8",
   "metadata": {},
   "outputs": [
    {
     "name": "stdout",
     "output_type": "stream",
     "text": [
      "Shortest path from A to F: A -> B -> D -> F\n"
     ]
    }
   ],
   "source": [
    "if __name__ == \"__main__\":\n",
    "    city_map = {\n",
    "        'A': ['B', 'C'],\n",
    "        'B': ['A', 'D'],\n",
    "        'C': ['A', 'E'],\n",
    "        'D': ['B', 'E', 'F'],\n",
    "        'E': ['C', 'D', 'F'],\n",
    "        'F': ['D', 'E']\n",
    "    }\n",
    "    start = 'A'\n",
    "    end = 'F'\n",
    "    shortest_path = bidirectional_bfs(city_map, start, end)\n",
    "    if shortest_path:\n",
    "        print(f\"Shortest path from {start} to {end}: {' -> '.join(shortest_path)}\")\n",
    "    else:\n",
    "        print(f\"No path found between {start} and {end}.\")"
   ]
  },
  {
   "cell_type": "code",
   "execution_count": 5,
   "id": "e99fec5b",
   "metadata": {},
   "outputs": [
    {
     "name": "stdout",
     "output_type": "stream",
     "text": [
      "\n",
      "Standard BFS:\n",
      "['A', 'B', 'D', 'F']\n",
      "\n",
      "DFS:\n",
      "['A', 'C', 'E', 'F']\n"
     ]
    }
   ],
   "source": [
    "def _combine_paths(visited_start, visited_end, start, end):\n",
    "    intersection = next(node for node in visited_start if node in visited_end)\n",
    "    \n",
    "    path = []\n",
    "    current = intersection\n",
    "    while current:\n",
    "        path.append(current)\n",
    "        current = visited_start[current]\n",
    "    path.reverse()\n",
    "\n",
    "    current = visited_end[intersection]\n",
    "    while current:\n",
    "        path.append(current)\n",
    "        current = visited_end[current]\n",
    "\n",
    "    return path\n",
    "\n",
    "def bfs(map, start, end):\n",
    "    queue = deque([start])\n",
    "    visited = {start: None}\n",
    "\n",
    "    while queue:\n",
    "        current = queue.popleft()\n",
    "        if current == end:\n",
    "            return _reconstruct_path(visited, start, end)\n",
    "        for neighbor in map.get(current, []):\n",
    "            if neighbor not in visited:\n",
    "                visited[neighbor] = current\n",
    "                queue.append(neighbor)\n",
    "\n",
    "    return \"No path found\"\n",
    "\n",
    "def dfs(map, start, end):\n",
    "    stack = [start]\n",
    "    visited = {start: None}\n",
    "\n",
    "    while stack:\n",
    "        current = stack.pop()\n",
    "        if current == end:\n",
    "            return _reconstruct_path(visited, start, end)\n",
    "        for neighbor in map.get(current, []):\n",
    "            if neighbor not in visited:\n",
    "                visited[neighbor] = current\n",
    "                stack.append(neighbor)\n",
    "\n",
    "    return \"No path found\"\n",
    "\n",
    "def _reconstruct_path(visited, start, end):\n",
    "    path = []\n",
    "    current = end\n",
    "    while current:\n",
    "        path.append(current)\n",
    "        current = visited[current]\n",
    "    path.reverse()\n",
    "    return path\n",
    "\n",
    "if __name__ == \"__main__\":\n",
    "    city_map = {\n",
    "        'A': ['B', 'C'],\n",
    "        'B': ['A', 'D'],\n",
    "        'C': ['A', 'E'],\n",
    "        'D': ['B', 'E', 'F'],\n",
    "        'E': ['C', 'D', 'F'],\n",
    "        'F': ['D', 'E']\n",
    "    }\n",
    "\n",
    "    start = 'A'\n",
    "    end = 'F'\n",
    "\n",
    "    print(\"\\nStandard BFS:\")\n",
    "    print(bfs(city_map, start, end))\n",
    "\n",
    "    print(\"\\nDFS:\")\n",
    "    print(dfs(city_map, start, end))\n"
   ]
  },
  {
   "cell_type": "code",
   "execution_count": 6,
   "id": "dc7d89a8",
   "metadata": {},
   "outputs": [
    {
     "name": "stdout",
     "output_type": "stream",
     "text": [
      "Requirement already satisfied: networkx in c:\\users\\kiit\\anaconda3\\lib\\site-packages (3.1)\n",
      "Note: you may need to restart the kernel to use updated packages.\n"
     ]
    },
    {
     "name": "stderr",
     "output_type": "stream",
     "text": [
      "\n",
      "[notice] A new release of pip is available: 24.2 -> 24.3.1\n",
      "[notice] To update, run: python.exe -m pip install --upgrade pip\n"
     ]
    }
   ],
   "source": [
    "pip install networkx"
   ]
  },
  {
   "cell_type": "code",
   "execution_count": 7,
   "id": "72234529",
   "metadata": {},
   "outputs": [
    {
     "data": {
      "image/png": "[encoded data removed]",
      "text/plain": [
       "<Figure size 800x600 with 1 Axes>"
      ]
     },
     "metadata": {},
     "output_type": "display_data"
    }
   ],
   "source": [
    "import networkx as nx\n",
    "import matplotlib.pyplot as plt\n",
    "\n",
    "def visualize_graph(graph, visited_nodes, path=None, title=\"Graph Visualization\"):\n",
    "    \n",
    "    G = nx.Graph()\n",
    "    for node, neighbors in graph.items():\n",
    "        for neighbor in neighbors:\n",
    "            G.add_edge(node, neighbor)\n",
    "\n",
    "    pos = nx.spring_layout(G)\n",
    "\n",
    "    plt.figure(figsize=(8, 6))\n",
    "    nx.draw(G, pos, with_labels=True, node_color=\"lightblue\", edge_color=\"gray\", node_size=500, font_size=10)\n",
    "\n",
    "    if visited_nodes:\n",
    "        nx.draw_networkx_nodes(G, pos, nodelist=visited_nodes, node_color=\"yellow\")\n",
    "\n",
    "    if path:\n",
    "        edges_in_path = [(path[i], path[i + 1]) for i in range(len(path) - 1)]\n",
    "        nx.draw_networkx_edges(G, pos, edgelist=edges_in_path, edge_color=\"red\", width=2)\n",
    "        nx.draw_networkx_nodes(G, pos, nodelist=path, node_color=\"green\")\n",
    "\n",
    "    plt.title(title)\n",
    "    plt.show()\n",
    "    \n",
    "city_map = {\n",
    "    'A': ['B', 'C'],\n",
    "    'B': ['A', 'D'],\n",
    "    'C': ['A', 'E'],\n",
    "    'D': ['B', 'E', 'F'],\n",
    "    'E': ['C', 'D', 'F'],\n",
    "    'F': ['D', 'E']\n",
    "}\n",
    "\n",
    "visited_nodes = ['A', 'B', 'D']  \n",
    "path = ['A', 'B', 'D', 'F']    \n",
    "\n",
    "visualize_graph(city_map, visited_nodes, path, title=\"Graph Search Visualization\")"
   ]
  },
  {
   "cell_type": "code",
   "execution_count": null,
   "id": "2683c5c0",
   "metadata": {},
   "outputs": [],
   "source": []
  },
  {
   "cell_type": "code",
   "execution_count": null,
   "id": "ac80953d",
   "metadata": {},
   "outputs": [],
   "source": []
  }
 ],
 "metadata": {
  "kernelspec": {
   "display_name": "Python 3 (ipykernel)",
   "language": "python",
   "name": "python3"
  },
  "language_info": {
   "codemirror_mode": {
    "name": "ipython",
    "version": 3
   },
   "file_extension": ".py",
   "mimetype": "text/x-python",
   "name": "python",
   "nbconvert_exporter": "python",
   "pygments_lexer": "ipython3",
   "version": "3.11.4"
  }
 },
 "nbformat": 4,
 "nbformat_minor": 5
}
