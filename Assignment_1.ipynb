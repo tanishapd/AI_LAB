{
 "cells": [
  {
   "cell_type": "code",
   "execution_count": 1,
   "id": "1bd534f5",
   "metadata": {},
   "outputs": [],
   "source": [
    "from collections import deque"
   ]
  },
  {
   "cell_type": "code",
   "execution_count": 2,
   "id": "bfcdc384",
   "metadata": {},
   "outputs": [],
   "source": [
    "#using BFS for finding shortest path\n",
    "def bfs(maze, start, end):\n",
    "    rows, cols = len(maze), len(maze[0])\n",
    "    q = deque([(start, [start])])  \n",
    "    visited = set()\n",
    "    visited.add(start)\n",
    "    explored_nodes = set()  \n",
    "    while q:\n",
    "        (i, j), path = q.popleft()\n",
    "        explored_nodes.add((i, j))  \n",
    "\n",
    "        if (i, j) == end:\n",
    "            return path, explored_nodes \n",
    "\n",
    "        for di, dj in [(-1, 0), (1, 0), (0, -1), (0, 1)]:\n",
    "            ni, nj = i + di, j + dj\n",
    "\n",
    "            if 0 <= ni < rows and 0 <= nj < cols and maze[ni][nj] == 1 and (ni, nj) not in visited:\n",
    "                visited.add((ni, nj))\n",
    "                q.append(((ni, nj), path + [(ni, nj)]))\n",
    "\n",
    "    return \"No path found\", explored_nodes \n"
   ]
  },
  {
   "cell_type": "code",
   "execution_count": 3,
   "id": "5a080ec6",
   "metadata": {},
   "outputs": [],
   "source": [
    "#using DFS to explore all possible paths and considering one valid path\n",
    "def dfs(maze, start, end):\n",
    "    rows, cols = len(maze), len(maze[0])\n",
    "    stack = [(start, [start])]  \n",
    "    paths = []  \n",
    "    visited = set()  \n",
    "    visited.add(start)\n",
    "    explored_nodes = set()  \n",
    "\n",
    "    while stack:\n",
    "        (i, j), path = stack.pop()  \n",
    "        explored_nodes.add((i, j)) \n",
    "\n",
    "        if (i, j) == end:  \n",
    "            paths.append(path)\n",
    "\n",
    "        for di, dj in [(-1, 0), (1, 0), (0, -1), (0, 1)]: \n",
    "            ni, nj = i + di, j + dj\n",
    "\n",
    "            if 0 <= ni < rows and 0 <= nj < cols and maze[ni][nj] == 1 and (ni, nj) not in visited:\n",
    "                visited.add((ni, nj))  \n",
    "                stack.append(((ni, nj), path + [(ni, nj)]))  \n",
    "\n",
    "    if not paths:  \n",
    "        return \"No path found\", explored_nodes\n",
    "    else:\n",
    "        return paths, explored_nodes"
   ]
  },
  {
   "cell_type": "code",
   "execution_count": 4,
   "id": "60678f8b",
   "metadata": {},
   "outputs": [
    {
     "name": "stdout",
     "output_type": "stream",
     "text": [
      "BFS Path: [(3, 0), (2, 0), (2, 1), (1, 1), (0, 1), (0, 2), (0, 3)]\n",
      "DFS Path: [[(3, 0), (2, 0), (2, 1), (2, 2), (2, 3), (1, 3), (0, 3)]]\n",
      "BFS Explored Nodes: {(0, 1), (2, 1), (1, 1), (0, 3), (2, 0), (3, 0), (2, 3), (0, 2), (2, 2), (1, 3)}\n",
      "DFS Explored Nodes: {(0, 1), (2, 1), (1, 1), (0, 3), (2, 0), (3, 0), (2, 3), (0, 2), (2, 2), (1, 3)}\n"
     ]
    }
   ],
   "source": [
    "def compare_bfs_dfs(maze, start, end):\n",
    "    bfs_path, bfs_explored = bfs(maze, start, end)\n",
    "    dfs_path, dfs_explored = dfs(maze, start, end)\n",
    "\n",
    "    print(\"BFS Path:\", bfs_path)\n",
    "    print(\"DFS Path:\", dfs_path)\n",
    "    print(\"BFS Explored Nodes:\", bfs_explored)\n",
    "    print(\"DFS Explored Nodes:\", dfs_explored)\n",
    "\n",
    "maze = [\n",
    "     [0, 1, 1, 1],\n",
    "     [0, 1, 0, 1],\n",
    "     [1, 1, 1, 1],\n",
    "     [1, 0, 0, 0]\n",
    "]\n",
    "\n",
    "start = (3, 0)\n",
    "end = (0, 3)\n",
    "\n",
    "compare_bfs_dfs(maze, start, end)"
   ]
  },
  {
   "cell_type": "code",
   "execution_count": null,
   "id": "afae7c79",
   "metadata": {},
   "outputs": [],
   "source": []
  },
  {
   "cell_type": "code",
   "execution_count": null,
   "id": "1cdc557c",
   "metadata": {},
   "outputs": [],
   "source": []
  }
 ],
 "metadata": {
  "kernelspec": {
   "display_name": "Python 3 (ipykernel)",
   "language": "python",
   "name": "python3"
  },
  "language_info": {
   "codemirror_mode": {
    "name": "ipython",
    "version": 3
   },
   "file_extension": ".py",
   "mimetype": "text/x-python",
   "name": "python",
   "nbconvert_exporter": "python",
   "pygments_lexer": "ipython3",
   "version": "3.11.4"
  }
 },
 "nbformat": 4,
 "nbformat_minor": 5
}
